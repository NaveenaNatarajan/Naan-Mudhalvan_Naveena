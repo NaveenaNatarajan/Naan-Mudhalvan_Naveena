{
 "cells": [
  {
   "cell_type": "code",
   "execution_count": 1,
   "id": "bd2cd5a2",
   "metadata": {},
   "outputs": [],
   "source": [
    "# To perform operations on dataset\n",
    "import pandas as pd\n",
    "import numpy as np\n",
    "# Machine learning model\n",
    "from sklearn.model_selection import train_test_split\n",
    "from sklearn.tree import DecisionTreeClassifier\n",
    "# Visualization\n",
    "from sklearn import metrics\n",
    "from sklearn.metrics import confusion_matrix\n",
    "import matplotlib.pyplot as plt\n",
    "import seaborn as sns\n",
    "from sklearn.tree import export_graphviz"
   ]
  },
  {
   "cell_type": "code",
   "execution_count": 2,
   "id": "b879b130",
   "metadata": {},
   "outputs": [
    {
     "name": "stdout",
     "output_type": "stream",
     "text": [
      "Collecting ucimlrepo\n",
      "  Downloading ucimlrepo-0.0.6-py3-none-any.whl (8.0 kB)\n",
      "Installing collected packages: ucimlrepo\n",
      "Successfully installed ucimlrepo-0.0.6\n",
      "Note: you may need to restart the kernel to use updated packages.\n"
     ]
    }
   ],
   "source": [
    "pip install ucimlrepo"
   ]
  },
  {
   "cell_type": "code",
   "execution_count": 1,
   "id": "7a3ba3b6",
   "metadata": {},
   "outputs": [
    {
     "name": "stdout",
     "output_type": "stream",
     "text": [
      "{'uci_id': 327, 'name': 'Phishing Websites', 'repository_url': 'https://archive.ics.uci.edu/dataset/327/phishing+websites', 'data_url': 'https://archive.ics.uci.edu/static/public/327/data.csv', 'abstract': 'This dataset collected mainly from: PhishTank archive, MillerSmiles archive, Googleâ€™s searching operators.', 'area': 'Computer Science', 'tasks': ['Classification'], 'characteristics': ['Tabular'], 'num_instances': 11055, 'num_features': 30, 'feature_types': ['Integer'], 'demographics': [], 'target_col': ['result'], 'index_col': None, 'has_missing_values': 'no', 'missing_values_symbol': None, 'year_of_dataset_creation': 2012, 'last_updated': 'Tue Mar 05 2024', 'dataset_doi': '10.24432/C51W2X', 'creators': ['Rami Mohammad', 'Lee McCluskey'], 'intro_paper': {'title': 'An assessment of features related to phishing websites using an automated technique', 'authors': 'R. Mohammad, F. Thabtah, L. Mccluskey', 'published_in': 'International Conference for Internet Technology and Secured Transactions', 'year': 2012, 'url': 'https://www.semanticscholar.org/paper/An-assessment-of-features-related-to-phishing-using-Mohammad-Thabtah/0c0ff58063f4e078714ea74f112bc709ba9fed06', 'doi': None}, 'additional_info': {'summary': 'One of the challenges faced by our research was the unavailability of reliable training datasets. In fact this challenge faces any researcher in the field. However, although plenty of articles about predicting phishing websites have been disseminated these days, no reliable training dataset has been published publically, may be because there is no agreement in literature on the definitive features that characterize phishing webpages, hence it is difficult to shape a dataset that covers all possible features. \\r\\nIn this dataset, we shed light on the important features that have proved to be sound and effective in predicting phishing websites. In addition, we propose some new features.', 'purpose': None, 'funded_by': None, 'instances_represent': None, 'recommended_data_splits': None, 'sensitive_data': None, 'preprocessing_description': None, 'variable_info': 'For Further information about the features see the features file in the data folder.', 'citation': None}}\n",
      "                          name     role     type demographic description  \\\n",
      "0            having_ip_address  Feature  Integer        None        None   \n",
      "1                   url_length  Feature  Integer        None        None   \n",
      "2           shortining_service  Feature  Integer        None        None   \n",
      "3             having_at_symbol  Feature  Integer        None        None   \n",
      "4     double_slash_redirecting  Feature  Integer        None        None   \n",
      "5                prefix_suffix  Feature  Integer        None        None   \n",
      "6            having_sub_domain  Feature  Integer        None        None   \n",
      "7               sslfinal_state  Feature  Integer        None        None   \n",
      "8   domain_registration_length  Feature  Integer        None        None   \n",
      "9                      favicon  Feature  Integer        None        None   \n",
      "10                        port  Feature  Integer        None        None   \n",
      "11                 https_token  Feature  Integer        None        None   \n",
      "12                 request_url  Feature  Integer        None        None   \n",
      "13               url_of_anchor  Feature  Integer        None        None   \n",
      "14               links_in_tags  Feature  Integer        None        None   \n",
      "15                         sfh  Feature  Integer        None        None   \n",
      "16         submitting_to_email  Feature  Integer        None        None   \n",
      "17                abnormal_url  Feature  Integer        None        None   \n",
      "18                    redirect  Feature  Integer        None        None   \n",
      "19                on_mouseover  Feature  Integer        None        None   \n",
      "20                  rightclick  Feature  Integer        None        None   \n",
      "21                 popupwindow  Feature  Integer        None        None   \n",
      "22                      iframe  Feature  Integer        None        None   \n",
      "23               age_of_domain  Feature  Integer        None        None   \n",
      "24                   dnsrecord  Feature  Integer        None        None   \n",
      "25                 web_traffic  Feature  Integer        None        None   \n",
      "26                   page_rank  Feature  Integer        None        None   \n",
      "27                google_index  Feature  Integer        None        None   \n",
      "28      links_pointing_to_page  Feature  Integer        None        None   \n",
      "29          statistical_report  Feature  Integer        None        None   \n",
      "30                      result   Target  Integer        None        None   \n",
      "\n",
      "   units missing_values  \n",
      "0   None             no  \n",
      "1   None             no  \n",
      "2   None             no  \n",
      "3   None             no  \n",
      "4   None             no  \n",
      "5   None             no  \n",
      "6   None             no  \n",
      "7   None             no  \n",
      "8   None             no  \n",
      "9   None             no  \n",
      "10  None             no  \n",
      "11  None             no  \n",
      "12  None             no  \n",
      "13  None             no  \n",
      "14  None             no  \n",
      "15  None             no  \n",
      "16  None             no  \n",
      "17  None             no  \n",
      "18  None             no  \n",
      "19  None             no  \n",
      "20  None             no  \n",
      "21  None             no  \n",
      "22  None             no  \n",
      "23  None             no  \n",
      "24  None             no  \n",
      "25  None             no  \n",
      "26  None             no  \n",
      "27  None             no  \n",
      "28  None             no  \n",
      "29  None             no  \n",
      "30  None             no  \n"
     ]
    }
   ],
   "source": [
    "from ucimlrepo import fetch_ucirepo \n",
    "  \n",
    "# fetch dataset \n",
    "phishing_websites = fetch_ucirepo(id=327) \n",
    "  \n",
    "# data (as pandas dataframes) \n",
    "X = phishing_websites.data.features \n",
    "y = phishing_websites.data.targets \n",
    "  \n",
    "# metadata \n",
    "print(phishing_websites.metadata) \n",
    "  \n",
    "# variable information \n",
    "print(phishing_websites.variables) \n"
   ]
  },
  {
   "cell_type": "code",
   "execution_count": 2,
   "id": "dd55be60",
   "metadata": {},
   "outputs": [
    {
     "name": "stdout",
     "output_type": "stream",
     "text": [
      "Accuracy: 0.9565807327001357\n",
      "Classification Report:\n",
      "              precision    recall  f1-score   support\n",
      "\n",
      "          -1       0.95      0.95      0.95       956\n",
      "           1       0.96      0.96      0.96      1255\n",
      "\n",
      "    accuracy                           0.96      2211\n",
      "   macro avg       0.96      0.96      0.96      2211\n",
      "weighted avg       0.96      0.96      0.96      2211\n",
      "\n"
     ]
    }
   ],
   "source": [
    "from sklearn.model_selection import train_test_split\n",
    "from sklearn.tree import DecisionTreeClassifier\n",
    "from sklearn.metrics import accuracy_score, classification_report\n",
    "\n",
    "# Split the data into training and testing sets\n",
    "X_train, X_test, y_train, y_test = train_test_split(X, y, test_size=0.2, random_state=42)\n",
    "\n",
    "# Initialize the decision tree classifier\n",
    "clf = DecisionTreeClassifier()\n",
    "\n",
    "# Train the classifier on the training data\n",
    "clf.fit(X_train, y_train)\n",
    "\n",
    "# Make predictions on the testing data\n",
    "y_pred = clf.predict(X_test)\n",
    "\n",
    "# Calculate accuracy\n",
    "accuracy = accuracy_score(y_test, y_pred)\n",
    "print(\"Accuracy:\", accuracy)\n",
    "\n",
    "# Classification report\n",
    "print(\"Classification Report:\")\n",
    "print(classification_report(y_test, y_pred))\n"
   ]
  },
  {
   "cell_type": "code",
   "execution_count": null,
   "id": "d421484b",
   "metadata": {},
   "outputs": [],
   "source": []
  }
 ],
 "metadata": {
  "kernelspec": {
   "display_name": "Python 3 (ipykernel)",
   "language": "python",
   "name": "python3"
  },
  "language_info": {
   "codemirror_mode": {
    "name": "ipython",
    "version": 3
   },
   "file_extension": ".py",
   "mimetype": "text/x-python",
   "name": "python",
   "nbconvert_exporter": "python",
   "pygments_lexer": "ipython3",
   "version": "3.9.12"
  }
 },
 "nbformat": 4,
 "nbformat_minor": 5
}
